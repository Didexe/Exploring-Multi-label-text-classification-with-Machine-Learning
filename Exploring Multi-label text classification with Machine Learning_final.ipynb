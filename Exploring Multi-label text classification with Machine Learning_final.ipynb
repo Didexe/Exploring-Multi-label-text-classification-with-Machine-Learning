{
 "cells": [
  {
   "cell_type": "code",
   "execution_count": 1,
   "metadata": {},
   "outputs": [],
   "source": [
    "%matplotlib inline"
   ]
  },
  {
   "cell_type": "code",
   "execution_count": 2,
   "metadata": {},
   "outputs": [],
   "source": [
    "import numpy as np\n",
    "import pandas as pd\n",
    "import re\n",
    "from matplotlib import pyplot as plt\n",
    "from sklearn.feature_extraction.text import TfidfVectorizer\n",
    "from sklearn.pipeline import Pipeline\n",
    "from sklearn.multiclass import OneVsRestClassifier\n",
    "from sklearn.svm import SVC, LinearSVC\n",
    "from sklearn.linear_model import LogisticRegression\n",
    "from sklearn.naive_bayes import MultinomialNB\n",
    "from sklearn.metrics import roc_auc_score, accuracy_score, roc_curve, confusion_matrix, \\\n",
    "multilabel_confusion_matrix, classification_report\n",
    "from sklearn.model_selection import GridSearchCV, StratifiedKFold\n",
    "\n",
    "import warnings\n",
    "warnings.filterwarnings('ignore')"
   ]
  },
  {
   "cell_type": "markdown",
   "metadata": {},
   "source": [
    "# Exploring Multi-label text classification with Machine Learning"
   ]
  },
  {
   "cell_type": "markdown",
   "metadata": {},
   "source": [
    "## What is Multi-label classification\n",
    "\n",
    "There are mainly tree types of classification problems:\n",
    "    \n",
    "    Bynary classification puts the samples in only one of two possible classes. A person can be either a male or a female.\n",
    "\n",
    "    Multiclass classification means a classification task with more than two classes; e.g., classify a set of people in different age groups. Multiclass classification makes the assumption that each sample is assigned to one and only one label: a person can only be between 20 and 29 years old or 30 to 39 years old but not in both groups.\n",
    "    \n",
    "    Multilabel classification assigns to each sample a set of target labels. This can be thought as predicting properties of a data-point that are not mutually exclusive, such as topics that are relevant for a document. A text might be about any of religion, politics, finance or education at the same time or none of these.\n",
    "\n",
    "There are two main methods for tackling a multi-label classification problem: problem transformation methods and algorithm adaptation methods.\n",
    "Problem transformation methods transform the multi-label problem into a set of binary classification problems, which can then be handled using single-class classifiers. They include OneVsRest and Binary Relevance techniques.\n",
    "\n",
    "Whereas algorithm adaptation methods adapt the algorithms to directly perform multi-label classification. In other words, rather than trying to convert the problem to a simpler problem, they try to address the problem in its full form. They include Classifier Chains, Label Powerset and Adapted Algorithm."
   ]
  },
  {
   "cell_type": "markdown",
   "metadata": {},
   "source": [
    "## Our dataset\n",
    "\n",
    "We will use the datasets from a Kaggle competition which aims to resolve the problem with negative online behaviors, like toxic comments (i.e. comments that are rude, disrespectful or otherwise likely to make someone leave a discussion). The dataset contains a large number of Wikipedia comments which have been labeled by human raters for toxic behavior. The types of toxicity are: **toxic, severe_toxic,obscene, threat, insult,identity_hate**. A model which predicts a probability of each type of toxicity for each comment must be created.\n",
    "\n",
    "https://www.kaggle.com/c/jigsaw-toxic-comment-classification-challenge/overview\n",
    "\n",
    "First we load our files:"
   ]
  },
  {
   "cell_type": "code",
   "execution_count": 3,
   "metadata": {},
   "outputs": [],
   "source": [
    "train_set = pd.read_csv('./data/train.csv')\n",
    "test_set = pd.read_csv('./data/test.csv')\n",
    "test_labels = pd.read_csv('./data/test_labels.csv')"
   ]
  },
  {
   "cell_type": "code",
   "execution_count": 4,
   "metadata": {},
   "outputs": [
    {
     "name": "stdout",
     "output_type": "stream",
     "text": [
      "train set                  id                                       comment_text  toxic  \\\n",
      "0  0000997932d777bf  Explanation\\nWhy the edits made under my usern...      0   \n",
      "1  000103f0d9cfb60f  D'aww! He matches this background colour I'm s...      0   \n",
      "2  000113f07ec002fd  Hey man, I'm really not trying to edit war. It...      0   \n",
      "3  0001b41b1c6bb37e  \"\\nMore\\nI can't make any real suggestions on ...      0   \n",
      "4  0001d958c54c6e35  You, sir, are my hero. Any chance you remember...      0   \n",
      "5  00025465d4725e87  \"\\n\\nCongratulations from me as well, use the ...      0   \n",
      "6  0002bcb3da6cb337       COCKSUCKER BEFORE YOU PISS AROUND ON MY WORK      1   \n",
      "7  00031b1e95af7921  Your vandalism to the Matt Shirvington article...      0   \n",
      "8  00037261f536c51d  Sorry if the word 'nonsense' was offensive to ...      0   \n",
      "9  00040093b2687caa  alignment on this subject and which are contra...      0   \n",
      "\n",
      "   severe_toxic  obscene  threat  insult  identity_hate  \n",
      "0             0        0       0       0              0  \n",
      "1             0        0       0       0              0  \n",
      "2             0        0       0       0              0  \n",
      "3             0        0       0       0              0  \n",
      "4             0        0       0       0              0  \n",
      "5             0        0       0       0              0  \n",
      "6             1        1       0       1              0  \n",
      "7             0        0       0       0              0  \n",
      "8             0        0       0       0              0  \n",
      "9             0        0       0       0              0  \n",
      "test set                  id                                       comment_text\n",
      "0  00001cee341fdb12  Yo bitch Ja Rule is more succesful then you'll...\n",
      "1  0000247867823ef7  == From RfC == \\n\\n The title is fine as it is...\n",
      "2  00013b17ad220c46  \" \\n\\n == Sources == \\n\\n * Zawe Ashton on Lap...\n",
      "3  00017563c3f7919a  :If you have a look back at the source, the in...\n",
      "4  00017695ad8997eb          I don't anonymously edit articles at all.\n",
      "5  0001ea8717f6de06  Thank you for understanding. I think very high...\n",
      "6  00024115d4cbde0f  Please do not add nonsense to Wikipedia. Such ...\n",
      "7  000247e83dcc1211                   :Dear god this site is horrible.\n",
      "8  00025358d4737918  \" \\n Only a fool can believe in such numbers. ...\n",
      "9  00026d1092fe71cc  == Double Redirects == \\n\\n When fixing double...\n",
      "test labels                  id  toxic  severe_toxic  obscene  threat  insult  \\\n",
      "0  00001cee341fdb12     -1            -1       -1      -1      -1   \n",
      "1  0000247867823ef7     -1            -1       -1      -1      -1   \n",
      "2  00013b17ad220c46     -1            -1       -1      -1      -1   \n",
      "3  00017563c3f7919a     -1            -1       -1      -1      -1   \n",
      "4  00017695ad8997eb     -1            -1       -1      -1      -1   \n",
      "5  0001ea8717f6de06      0             0        0       0       0   \n",
      "6  00024115d4cbde0f     -1            -1       -1      -1      -1   \n",
      "7  000247e83dcc1211      0             0        0       0       0   \n",
      "8  00025358d4737918     -1            -1       -1      -1      -1   \n",
      "9  00026d1092fe71cc     -1            -1       -1      -1      -1   \n",
      "\n",
      "   identity_hate  \n",
      "0             -1  \n",
      "1             -1  \n",
      "2             -1  \n",
      "3             -1  \n",
      "4             -1  \n",
      "5              0  \n",
      "6             -1  \n",
      "7              0  \n",
      "8             -1  \n",
      "9             -1  \n"
     ]
    }
   ],
   "source": [
    "print('train set', train_set.head(10))\n",
    "print('test set', test_set.head(10))\n",
    "print('test labels', test_labels.head(10))"
   ]
  },
  {
   "cell_type": "markdown",
   "metadata": {},
   "source": [
    "## Data cleaning and analisys\n",
    "\n",
    "We need to check for empty values just in case:"
   ]
  },
  {
   "cell_type": "code",
   "execution_count": null,
   "metadata": {},
   "outputs": [],
   "source": [
    "print(train_set.isna().sum())\n",
    "print(test_set.isna().sum())\n",
    "print(test_labels.isna().sum())"
   ]
  },
  {
   "cell_type": "markdown",
   "metadata": {},
   "source": [
    "As it was a competition, to deter hand labeling, the test_set contains some comments which are not included \n",
    "in scoring. We need to remove the comments containing labels with -1 from the later supplied test_labels file and the test_set."
   ]
  },
  {
   "cell_type": "code",
   "execution_count": 5,
   "metadata": {},
   "outputs": [
    {
     "name": "stdout",
     "output_type": "stream",
     "text": [
      "test labels                   id  toxic  severe_toxic  obscene  threat  insult  \\\n",
      "5   0001ea8717f6de06      0             0        0       0       0   \n",
      "7   000247e83dcc1211      0             0        0       0       0   \n",
      "11  0002f87b16116a7f      0             0        0       0       0   \n",
      "13  0003e1cccfd5a40a      0             0        0       0       0   \n",
      "14  00059ace3e3e9a53      0             0        0       0       0   \n",
      "16  000663aff0fffc80      0             0        0       0       0   \n",
      "17  000689dd34e20979      0             0        0       0       0   \n",
      "19  000844b52dee5f3f      0             0        0       0       0   \n",
      "21  00091c35fa9d0465      1             0        0       0       0   \n",
      "22  000968ce11f5ee34      0             0        0       0       0   \n",
      "\n",
      "    identity_hate  \n",
      "5               0  \n",
      "7               0  \n",
      "11              0  \n",
      "13              0  \n",
      "14              0  \n",
      "16              0  \n",
      "17              0  \n",
      "19              0  \n",
      "21              0  \n",
      "22              0  \n"
     ]
    }
   ],
   "source": [
    "test_set = test_set[test_labels['toxic'] != -1]\n",
    "test_labels = test_labels[test_labels['toxic'] != -1]\n",
    "test_features = test_set.comment_text\n",
    "train_features = train_set.comment_text\n",
    "print('test labels', test_labels.head(10))\n",
    "train_labels = train_set.drop(['id', 'comment_text'], axis = 1)\n",
    "test_labels = test_labels.drop(['id'], axis = 1)\n",
    "labels = ['toxic', 'severe_toxic', 'obscene', 'threat', 'insult', 'identity_hate']"
   ]
  },
  {
   "cell_type": "markdown",
   "metadata": {},
   "source": [
    "We want to try to clean the text of the comments by removing punctuation and spcial characters, converting all to lowercase, stripping white space, and replacing some commonly used short forms with their full words. We want save the cleaned comments in separate variables and test the vectorizer algorithm with both sets. We will also use the stop_words parameter of the vectorizer algorithm to remove the words that do not bring value and will actually confuse and slow down the vectorizer."
   ]
  },
  {
   "cell_type": "code",
   "execution_count": 6,
   "metadata": {},
   "outputs": [],
   "source": [
    "def clean_text(text):\n",
    "    text = text.lower()\n",
    "    text = re.sub(r\"what's\", \"what is \", text)\n",
    "    text = re.sub(r\"\\'s\", \" \", text)\n",
    "    text = re.sub(r\"\\'ve\", \" have \", text)\n",
    "    text = re.sub(r\"can't\", \"can not \", text)\n",
    "    text = re.sub(r\"n't\", \" not \", text)\n",
    "    text = re.sub(r\"i'm\", \"i am \", text)\n",
    "    text = re.sub(r\"\\'re\", \" are \", text)\n",
    "    text = re.sub(r\"\\'d\", \" would \", text)\n",
    "    text = re.sub(r\"\\'ll\", \" will \", text)\n",
    "    text = re.sub(r\"\\'scuse\", \" excuse \", text)\n",
    "    text = re.sub('\\W', ' ', text)\n",
    "    text = re.sub('\\s+', ' ', text)\n",
    "    text = text.strip(' ')\n",
    "    return text\n",
    "\n",
    "test_features_cleaned = test_features.map(lambda com : clean_text(com))\n",
    "train_features_cleaned = train_features.map(lambda com : clean_text(com))"
   ]
  },
  {
   "cell_type": "markdown",
   "metadata": {},
   "source": [
    "We check the percentage of labeled and non-labeled comments"
   ]
  },
  {
   "cell_type": "code",
   "execution_count": 8,
   "metadata": {},
   "outputs": [
    {
     "name": "stdout",
     "output_type": "stream",
     "text": [
      "Percentage of comments without labels: \n",
      "89.84589931754516\n",
      "Percentage of comments with one or more labels: \n",
      "10.154100682454832\n"
     ]
    }
   ],
   "source": [
    "print('Percentage of comments without labels: ')\n",
    "print(len((train_set[(train_set.toxic == 0) & (train_set.severe_toxic == 0) & (train_set.obscene == 0) & (train_set.insult == 0) & (train_set.insult == 0) & (train_set.identity_hate == 0)])) / len(train_set)*100)\n",
    "print('Percentage of comments with one or more labels: ')\n",
    "print(len(train_set[(train_set.toxic == 1) | (train_set.severe_toxic == 1) | (train_set.obscene == 1) | (train_set.insult == 1) | (train_set.insult == 1) | (train_set.identity_hate == 1)]) / len(train_set)*100)"
   ]
  },
  {
   "cell_type": "code",
   "execution_count": 9,
   "metadata": {},
   "outputs": [
    {
     "data": {
      "text/html": [
       "<div>\n",
       "<style scoped>\n",
       "    .dataframe tbody tr th:only-of-type {\n",
       "        vertical-align: middle;\n",
       "    }\n",
       "\n",
       "    .dataframe tbody tr th {\n",
       "        vertical-align: top;\n",
       "    }\n",
       "\n",
       "    .dataframe thead th {\n",
       "        text-align: right;\n",
       "    }\n",
       "</style>\n",
       "<table border=\"1\" class=\"dataframe\">\n",
       "  <thead>\n",
       "    <tr style=\"text-align: right;\">\n",
       "      <th></th>\n",
       "      <th>toxic</th>\n",
       "      <th>severe_toxic</th>\n",
       "      <th>obscene</th>\n",
       "      <th>threat</th>\n",
       "      <th>insult</th>\n",
       "      <th>identity_hate</th>\n",
       "    </tr>\n",
       "  </thead>\n",
       "  <tbody>\n",
       "    <tr>\n",
       "      <th>count</th>\n",
       "      <td>63978.000000</td>\n",
       "      <td>63978.000000</td>\n",
       "      <td>63978.000000</td>\n",
       "      <td>63978.000000</td>\n",
       "      <td>63978.000000</td>\n",
       "      <td>63978.000000</td>\n",
       "    </tr>\n",
       "    <tr>\n",
       "      <th>mean</th>\n",
       "      <td>0.095189</td>\n",
       "      <td>0.005736</td>\n",
       "      <td>0.057692</td>\n",
       "      <td>0.003298</td>\n",
       "      <td>0.053565</td>\n",
       "      <td>0.011129</td>\n",
       "    </tr>\n",
       "    <tr>\n",
       "      <th>std</th>\n",
       "      <td>0.293478</td>\n",
       "      <td>0.075522</td>\n",
       "      <td>0.233161</td>\n",
       "      <td>0.057334</td>\n",
       "      <td>0.225160</td>\n",
       "      <td>0.104905</td>\n",
       "    </tr>\n",
       "    <tr>\n",
       "      <th>min</th>\n",
       "      <td>0.000000</td>\n",
       "      <td>0.000000</td>\n",
       "      <td>0.000000</td>\n",
       "      <td>0.000000</td>\n",
       "      <td>0.000000</td>\n",
       "      <td>0.000000</td>\n",
       "    </tr>\n",
       "    <tr>\n",
       "      <th>25%</th>\n",
       "      <td>0.000000</td>\n",
       "      <td>0.000000</td>\n",
       "      <td>0.000000</td>\n",
       "      <td>0.000000</td>\n",
       "      <td>0.000000</td>\n",
       "      <td>0.000000</td>\n",
       "    </tr>\n",
       "    <tr>\n",
       "      <th>50%</th>\n",
       "      <td>0.000000</td>\n",
       "      <td>0.000000</td>\n",
       "      <td>0.000000</td>\n",
       "      <td>0.000000</td>\n",
       "      <td>0.000000</td>\n",
       "      <td>0.000000</td>\n",
       "    </tr>\n",
       "    <tr>\n",
       "      <th>75%</th>\n",
       "      <td>0.000000</td>\n",
       "      <td>0.000000</td>\n",
       "      <td>0.000000</td>\n",
       "      <td>0.000000</td>\n",
       "      <td>0.000000</td>\n",
       "      <td>0.000000</td>\n",
       "    </tr>\n",
       "    <tr>\n",
       "      <th>max</th>\n",
       "      <td>1.000000</td>\n",
       "      <td>1.000000</td>\n",
       "      <td>1.000000</td>\n",
       "      <td>1.000000</td>\n",
       "      <td>1.000000</td>\n",
       "      <td>1.000000</td>\n",
       "    </tr>\n",
       "  </tbody>\n",
       "</table>\n",
       "</div>"
      ],
      "text/plain": [
       "              toxic  severe_toxic       obscene        threat        insult  \\\n",
       "count  63978.000000  63978.000000  63978.000000  63978.000000  63978.000000   \n",
       "mean       0.095189      0.005736      0.057692      0.003298      0.053565   \n",
       "std        0.293478      0.075522      0.233161      0.057334      0.225160   \n",
       "min        0.000000      0.000000      0.000000      0.000000      0.000000   \n",
       "25%        0.000000      0.000000      0.000000      0.000000      0.000000   \n",
       "50%        0.000000      0.000000      0.000000      0.000000      0.000000   \n",
       "75%        0.000000      0.000000      0.000000      0.000000      0.000000   \n",
       "max        1.000000      1.000000      1.000000      1.000000      1.000000   \n",
       "\n",
       "       identity_hate  \n",
       "count   63978.000000  \n",
       "mean        0.011129  \n",
       "std         0.104905  \n",
       "min         0.000000  \n",
       "25%         0.000000  \n",
       "50%         0.000000  \n",
       "75%         0.000000  \n",
       "max         1.000000  "
      ]
     },
     "execution_count": 9,
     "metadata": {},
     "output_type": "execute_result"
    }
   ],
   "source": [
    "test_labels.describe()"
   ]
  },
  {
   "cell_type": "markdown",
   "metadata": {},
   "source": [
    "Count the number of comments per label"
   ]
  },
  {
   "cell_type": "code",
   "execution_count": 17,
   "metadata": {},
   "outputs": [
    {
     "data": {
      "image/png": "[encoded data removed]",
      "text/plain": [
       "<Figure size 576x432 with 1 Axes>"
      ]
     },
     "metadata": {
      "needs_background": "light"
     },
     "output_type": "display_data"
    }
   ],
   "source": [
    "fig = plt.figure(figsize=(8,6))\n",
    "ax = fig.add_axes([0,0,1,1])\n",
    "total_count = []\n",
    "for label in labels:\n",
    "    total_count.append(len(train_labels[train_labels[label] == 1]))\n",
    "ax.bar(labels,total_count, color=['red', 'green', 'blue', 'purple', 'orange', 'yellow'])\n",
    "for i,data in enumerate(total_count):\n",
    "    plt.text(i-.25, \n",
    "              data/total_count[i]+100, \n",
    "              total_count[i], \n",
    "              fontsize=12)\n",
    "plt.title('Number of comments per label')\n",
    "plt.xlabel('Labels')\n",
    "plt.ylabel('Number of comments')\n",
    "\n",
    "plt.show()"
   ]
  },
  {
   "cell_type": "markdown",
   "metadata": {},
   "source": [
    "For our purpose we are going to use OneVsRest classifier as the others are more complex and would take a considerable amount of time. OneVsRest classifier basically takes a classifier algorithm as a parameter and uses it to do a binary classification for each label in the dataset. We will also use pipelines to streamline the process by adding all estimators we need to be executed one after anoter. As the content we are going to analise is text we need first convert it into numeric values in order for our model to be able to process it. This is done by vectorizer algorithms that use different methods for comparing and weighing the relation between words in a single document and their relations in the whole corpus. They first collect all the unique words in a document(comment in our case) and build a dictionary of them and then vectorise each one giving it a specific weigth based on how much a word relates to a specific label within the whole corpus(the collection of all comments in our dataset). We are going to use TfidfVectorizer which is one of the widely used vectorisers."
   ]
  },
  {
   "cell_type": "markdown",
   "metadata": {},
   "source": [
    "## Creating baseline models\n",
    "\n",
    "In order to choose our best classifier and improve it further we are going to test tree different classifiers - **NaiveBayes, LogisticRegression and SVM with linear kernel** using their default parameters. \n",
    "    \n",
    "The еvaluation metrics we are going to use to judge our models :\n",
    "    \n",
    "    As specified in the competition requirements we need to use AUC. \n",
    "    \n",
    "    As suggested in some other articles we will also use micro-averaging for all labels of precision, recall and F1-score\n",
    "    \n",
    "LinearSVM algorithm does not have a predict_proba method which makes it impossible to use roc_auc_score for this model. I tried with SVC(kernel='linear',probability=True) which should make it possible but it took forever to compute so I just had to abandon it. We will just use acuracy_score and micro_averages F1-score."
   ]
  },
  {
   "cell_type": "code",
   "execution_count": 34,
   "metadata": {},
   "outputs": [],
   "source": [
    "NB_pipeline = Pipeline([('tfidf', TfidfVectorizer(stop_words='english')),\n",
    "                       ('nb_model', OneVsRestClassifier(MultinomialNB(), n_jobs=-1))])\n",
    "\n",
    "LR_pipeline = Pipeline([('tfidf', TfidfVectorizer(stop_words='english')),\n",
    "                       ('lr_model', OneVsRestClassifier(LogisticRegression(), n_jobs=-1))])\n",
    "\n",
    "# SVM_pipeline = Pipeline([('tfidf', TfidfVectorizer(stop_words='english')),\n",
    "#                        ('svm_model', OneVsRestClassifier(SVC(kernel='linear',probability=True)))])\n",
    "\n",
    "SVM_pipeline = Pipeline([('tfidf', TfidfVectorizer(stop_words='english')),\n",
    "                       ('svm_model', OneVsRestClassifier(LinearSVC(), n_jobs=-1))])\n",
    "\n",
    "def plot_roc_curve(test_features, predict_prob):\n",
    "    fpr, tpr, thresholds = roc_curve(test_features, predict_prob)\n",
    "    plt.plot(fpr, tpr)\n",
    "    plt.xlim([0.0, 1.0])\n",
    "    plt.ylim([0.0, 1.0])\n",
    "    plt.title('ROC curve for toxic comments')\n",
    "    plt.xlabel('False Positive Rate')\n",
    "    plt.ylabel('True Positive Rate')\n",
    "    plt.grid(True)\n",
    "    plt.legend(labels)\n",
    "\n",
    "def run_pipeline(pipeline, train_feats, train_lbls, test_feats, test_lbls):\n",
    "    pipeline.fit(train_feats, train_labels)\n",
    "    predictions = pipeline.predict(test_feats)\n",
    "    pred_proba = pipeline.predict_proba(test_feats)\n",
    "    print('roc_auc: ', roc_auc_score(test_lbls, pred_proba))\n",
    "    print('accuracy: ', accuracy_score(test_lbls, predictions))\n",
    "    print('confusion matrices: ')\n",
    "    print(multilabel_confusion_matrix(test_lbls, predictions))\n",
    "    print('classification_report: ')\n",
    "    print(classification_report(test_lbls, predictions, target_names=labels))\n",
    "    \n",
    "def run_SVM_pipeline(pipeline, train_feats, train_lbls, test_feats, test_lbls):\n",
    "    pipeline.fit(train_feats, train_labels)\n",
    "    predictions = pipeline.predict(test_feats)\n",
    "    print('accuracy: ', accuracy_score(test_lbls, predictions))\n",
    "    print('confusion matrices: ')\n",
    "    print(multilabel_confusion_matrix(test_lbls, predictions))\n",
    "    print('classification_report: ')\n",
    "    print(classification_report(test_lbls, predictions, target_names=labels))\n",
    "    \n",
    "def plot_pipeline_roc_curve(pipeline, train_feats, train_lbls, test_feats, test_lbls):\n",
    "    for label in labels:\n",
    "        pipeline.fit(train_feats, train_set[label])\n",
    "        pred_proba = pipeline.predict_proba(test_feats)[:,1]\n",
    "        plot_roc_curve(test_lbls[label], pred_proba)\n"
   ]
  },
  {
   "cell_type": "code",
   "execution_count": 18,
   "metadata": {},
   "outputs": [
    {
     "name": "stdout",
     "output_type": "stream",
     "text": [
      "roc_auc:  0.8492331250708368\n",
      "accuracy:  0.9030135359029666\n",
      "confusion matrices: \n",
      "[[[57731   157]\n",
      "  [ 4749  1341]]\n",
      "\n",
      " [[63611     0]\n",
      "  [  367     0]]\n",
      "\n",
      " [[60256    31]\n",
      "  [ 3218   473]]\n",
      "\n",
      " [[63767     0]\n",
      "  [  211     0]]\n",
      "\n",
      " [[60517    34]\n",
      "  [ 3245   182]]\n",
      "\n",
      " [[63266     0]\n",
      "  [  712     0]]]\n",
      "classification_report: \n",
      "               precision    recall  f1-score   support\n",
      "\n",
      "        toxic       0.90      0.22      0.35      6090\n",
      " severe_toxic       0.00      0.00      0.00       367\n",
      "      obscene       0.94      0.13      0.23      3691\n",
      "       threat       0.00      0.00      0.00       211\n",
      "       insult       0.84      0.05      0.10      3427\n",
      "identity_hate       0.00      0.00      0.00       712\n",
      "\n",
      "    micro avg       0.90      0.14      0.24     14498\n",
      "    macro avg       0.45      0.07      0.11     14498\n",
      " weighted avg       0.81      0.14      0.23     14498\n",
      "  samples avg       0.02      0.01      0.01     14498\n",
      "\n"
     ]
    }
   ],
   "source": [
    "run_pipeline(NB_pipeline, train_features, train_labels, test_features, test_labels)"
   ]
  },
  {
   "cell_type": "code",
   "execution_count": 19,
   "metadata": {},
   "outputs": [
    {
     "name": "stdout",
     "output_type": "stream",
     "text": [
      "roc_auc:  0.9750817379473767\n",
      "accuracy:  0.8976523179843071\n",
      "confusion matrices: \n",
      "[[[55722  2166]\n",
      "  [ 1894  4196]]\n",
      "\n",
      " [[63431   180]\n",
      "  [  247   120]]\n",
      "\n",
      " [[59560   727]\n",
      "  [ 1448  2243]]\n",
      "\n",
      " [[63727    40]\n",
      "  [  168    43]]\n",
      "\n",
      " [[59903   648]\n",
      "  [ 1705  1722]]\n",
      "\n",
      " [[63200    66]\n",
      "  [  546   166]]]\n",
      "classification_report: \n",
      "               precision    recall  f1-score   support\n",
      "\n",
      "        toxic       0.66      0.69      0.67      6090\n",
      " severe_toxic       0.40      0.33      0.36       367\n",
      "      obscene       0.76      0.61      0.67      3691\n",
      "       threat       0.52      0.20      0.29       211\n",
      "       insult       0.73      0.50      0.59      3427\n",
      "identity_hate       0.72      0.23      0.35       712\n",
      "\n",
      "    micro avg       0.69      0.59      0.63     14498\n",
      "    macro avg       0.63      0.43      0.49     14498\n",
      " weighted avg       0.69      0.59      0.63     14498\n",
      "  samples avg       0.06      0.05      0.05     14498\n",
      "\n"
     ]
    }
   ],
   "source": [
    "run_pipeline(LR_pipeline, train_features, train_labels, test_features, test_labels)"
   ]
  },
  {
   "cell_type": "code",
   "execution_count": 16,
   "metadata": {
    "scrolled": true
   },
   "outputs": [
    {
     "name": "stdout",
     "output_type": "stream",
     "text": [
      "accuracy:  0.8813654693800994\n",
      "confusion matrices: \n",
      "[[[54444  3444]\n",
      "  [ 1306  4784]]\n",
      "\n",
      " [[63396   215]\n",
      "  [  237   130]]\n",
      "\n",
      " [[59102  1185]\n",
      "  [ 1138  2553]]\n",
      "\n",
      " [[63697    70]\n",
      "  [  150    61]]\n",
      "\n",
      " [[59625   926]\n",
      "  [ 1487  1940]]\n",
      "\n",
      " [[63146   120]\n",
      "  [  488   224]]]\n",
      "classification_report: \n",
      "               precision    recall  f1-score   support\n",
      "\n",
      "        toxic       0.58      0.79      0.67      6090\n",
      " severe_toxic       0.38      0.35      0.37       367\n",
      "      obscene       0.68      0.69      0.69      3691\n",
      "       threat       0.47      0.29      0.36       211\n",
      "       insult       0.68      0.57      0.62      3427\n",
      "identity_hate       0.65      0.31      0.42       712\n",
      "\n",
      "    micro avg       0.62      0.67      0.64     14498\n",
      "    macro avg       0.57      0.50      0.52     14498\n",
      " weighted avg       0.63      0.67      0.64     14498\n",
      "  samples avg       0.07      0.06      0.06     14498\n",
      "\n"
     ]
    }
   ],
   "source": [
    "# run_pipeline(SVM_pipeline, train_features, train_labels, test_features, test_labels)\n",
    "run_SVM_pipeline(SVM_pipeline, train_features, train_labels, test_features, test_labels)"
   ]
  },
  {
   "cell_type": "markdown",
   "metadata": {},
   "source": [
    "Plot ROC curve for LogisticRegression model"
   ]
  },
  {
   "cell_type": "code",
   "execution_count": 31,
   "metadata": {},
   "outputs": [
    {
     "data": {
      "image/png": "[encoded data removed]",
      "text/plain": [
       "<Figure size 432x288 with 1 Axes>"
      ]
     },
     "metadata": {
      "needs_background": "light"
     },
     "output_type": "display_data"
    }
   ],
   "source": [
    "plot_pipeline_roc_curve(LR_pipeline, train_features, train_labels, test_features, test_labels)"
   ]
  },
  {
   "cell_type": "markdown",
   "metadata": {},
   "source": [
    "Plot ROC curve for NaiveBayes model"
   ]
  },
  {
   "cell_type": "code",
   "execution_count": 21,
   "metadata": {},
   "outputs": [
    {
     "data": {
      "image/png": "[encoded data removed]",
      "text/plain": [
       "<Figure size 432x288 with 1 Axes>"
      ]
     },
     "metadata": {
      "needs_background": "light"
     },
     "output_type": "display_data"
    }
   ],
   "source": [
    "plot_pipeline_roc_curve(NB_pipeline, train_features, train_labels, test_features, test_labels)"
   ]
  },
  {
   "cell_type": "markdown",
   "metadata": {},
   "source": [
    "## Hyperparameter tunning\n",
    "\n",
    "We select the LogisticRegression classifier as our best and will try to improve our results with the following techniques:\n",
    "    improve the tf-idf vectorizer's parameters\n",
    "    improve the tf-idf vectorizer by cleaning the text of the comments\n",
    "    improve the logistic regression's parameters\n",
    "    \n",
    "We checked the distribution of samples in our dataset earlier and we saw that it was highly unbalanced - 90% features with no labels and 10% features with one or more labels.\n",
    "In this situation in case of bynary or multiclass classification we would be able to use GridSearch with StratifiedKFold cross validation splits to test a set of different parameters for every algorithm in our pipeline. In our case though, the StratifiedKFold does not suppport multi-label and using just KFold would not yeld any useful data splits. I decided to give it a try anyway to prove this or burst it. "
   ]
  },
  {
   "cell_type": "code",
   "execution_count": null,
   "metadata": {},
   "outputs": [],
   "source": [
    "# TAKES ABOUT 40min to run\n",
    "# alpha = [0.1,1,10]\n",
    "# penalty=['l1','l2']\n",
    "# n_gram=[(1,1),(1,2)]\n",
    "# param_grid = {\n",
    "#     'tfidf__ngram_range': n_gram,\n",
    "#     'lr_model__estimator__C': alpha\n",
    "# }\n",
    "# gsearch_cv = GridSearchCV(LR_pipeline, param_grid=param_grid, cv=5)\n",
    "# gsearch_cv.fit(train_features, train_labels)"
   ]
  },
  {
   "cell_type": "code",
   "execution_count": null,
   "metadata": {},
   "outputs": [],
   "source": [
    "gsearch_cv.best_score_\n",
    "# 0.919784923325667"
   ]
  },
  {
   "cell_type": "code",
   "execution_count": null,
   "metadata": {},
   "outputs": [],
   "source": [
    "gsearch_cv.best_params_\n",
    "# {'lr_model__estimator__C': 10, 'tfidf__ngram_range': (1, 2)}"
   ]
  },
  {
   "cell_type": "code",
   "execution_count": 32,
   "metadata": {
    "scrolled": true
   },
   "outputs": [],
   "source": [
    "LR_pipeline = Pipeline([('tfidf', TfidfVectorizer(stop_words='english', ngram_range=(1, 2))),\n",
    "                       ('lr_model', OneVsRestClassifier(LogisticRegression(C=10), n_jobs=-1))])"
   ]
  },
  {
   "cell_type": "code",
   "execution_count": 33,
   "metadata": {},
   "outputs": [
    {
     "name": "stdout",
     "output_type": "stream",
     "text": [
      "roc_auc:  0.9754610987629123\n",
      "accuracy:  0.88294413704711\n",
      "confusion matrices: \n",
      "[[[54463  3425]\n",
      "  [ 1305  4785]]\n",
      "\n",
      " [[63264   347]\n",
      "  [  191   176]]\n",
      "\n",
      " [[58931  1356]\n",
      "  [ 1034  2657]]\n",
      "\n",
      " [[63657   110]\n",
      "  [  132    79]]\n",
      "\n",
      " [[59296  1255]\n",
      "  [ 1241  2186]]\n",
      "\n",
      " [[63045   221]\n",
      "  [  392   320]]]\n",
      "classification_report: \n",
      "               precision    recall  f1-score   support\n",
      "\n",
      "        toxic       0.58      0.79      0.67      6090\n",
      " severe_toxic       0.34      0.48      0.40       367\n",
      "      obscene       0.66      0.72      0.69      3691\n",
      "       threat       0.42      0.37      0.40       211\n",
      "       insult       0.64      0.64      0.64      3427\n",
      "identity_hate       0.59      0.45      0.51       712\n",
      "\n",
      "    micro avg       0.60      0.70      0.65     14498\n",
      "    macro avg       0.54      0.57      0.55     14498\n",
      " weighted avg       0.61      0.70      0.65     14498\n",
      "  samples avg       0.07      0.07      0.06     14498\n",
      "\n"
     ]
    }
   ],
   "source": [
    "run_pipeline(LR_pipeline, train_features, train_labels, test_features, test_labels)"
   ]
  },
  {
   "cell_type": "markdown",
   "metadata": {},
   "source": [
    "Running the pipeline with the suggested best parameters actually resulted in getting a better AUC accuracy. My asumption is that it was just by chance as there is no way to do a proper training on such an inbalanced set without stratifying the folds. We will proceed with a manual tunning of the models' parameters anyway to make a comparison."
   ]
  },
  {
   "cell_type": "markdown",
   "metadata": {},
   "source": [
    "**We try the cleaned comments with the default parameters used for our baseline best model and see almost no difference, a slight decrease in fact with 0.0001:**\n",
    "\n",
    "with cleaned comments and C=1, ngram_range=(1,1) - roc_auc:  0.9750820030803234\n",
    "micro avg       0.69      0.59      0.63     14498\n",
    "\n",
    "**Second thing we try to increase n-gram range of the tf-idf. n-gram parameter defines the number of consecutive words to be combined when creating the vectorising the text content. (1,1) is the default value which means only single words will be used**\n",
    "\n",
    "with not cleaned comments and C=1, ngram_range=(1,2) - roc_auc:  0.9734608599958284 \n",
    "micro avg       0.68      0.59      0.63     14498\n",
    "\n",
    "with not cleaned comments and C=1, ngram_range=(2,2) - roc_auc:  0.8695484960212974\n",
    "micro avg       0.86      0.08      0.15     14498\n",
    "\n",
    "with not cleaned comments and C=1, ngram_range=(1,3) - roc_auc:  0.9721529511622968\n",
    "micro avg       0.66      0.61      0.63     14498\n",
    "\n",
    "**different values for LogisticRegression parameters\n",
    "start with C wich is the regularization strength parameter - smaller values specify stronger regularization.**\n",
    "\n",
    "with not cleaned comments and C=.5, ngram_range=(1,1) - roc_auc:  0.9739737234377395\n",
    "micro avg       0.73      0.53      0.61     14498\n",
    "\n",
    "with not cleaned comments and C=2, ngram_range=(1,1) - roc_auc:  0.9752981961370573\n",
    "micro avg       0.67      0.63      0.64     14498\n",
    "\n",
    "with not cleaned comments and C=3, ngram_range=(1,1) - roc_auc:  0.9749554220049567\n",
    "micro avg       0.65      0.64      0.65     14498\n",
    "\n",
    "with not cleaned comments and C=2.1, ngram_range=(1,1) - roc_auc:  0.9752756613723531\n",
    "micro avg       0.66      0.63      0.65     14498\n",
    "\n",
    "with not cleaned comments and C=1.9, ngram_range=(1,1) - roc_auc:  0.9753144853229717\n",
    "micro avg       0.67      0.62      0.64     14498\n",
    "\n",
    "**OUR BEST PARAMS**\n",
    "**with cleaned comments and C=1.5, ngram_range=(1,1) - roc_auc:  0.9753254734889681\n",
    "micro avg       0.67      0.62      0.64     14498**\n",
    "\n",
    "with not cleaned comments and C=1.4, ngram_range=(1,1) - roc_auc:  0.9753073320518185\n",
    "micro avg       0.67      0.62      0.64     14498\n",
    "\n",
    "**We select C=1.5 to be the best value and then we lastly try the penalty parameter of 'l1' as the default is 'l2'**\n",
    "\n",
    "with not cleaned comments and C=1.5, l1, ngram_range=(1,1) - roc_auc:  0.9725936377263187\n",
    "micro avg       0.67      0.62      0.64     14498"
   ]
  },
  {
   "cell_type": "code",
   "execution_count": null,
   "metadata": {},
   "outputs": [],
   "source": [
    "# change parameters manually to get the results above\n",
    "LR_pipeline = Pipeline([('tfidf', TfidfVectorizer(stop_words='english', ngram_range=(1,2))),\n",
    "                       ('lr_model', OneVsRestClassifier(LogisticRegression(C=10), n_jobs=-1))])"
   ]
  },
  {
   "cell_type": "code",
   "execution_count": null,
   "metadata": {},
   "outputs": [],
   "source": [
    "run_pipeline(LR_pipeline, train_features_cleaned, train_labels, test_features_cleaned, test_labels)"
   ]
  },
  {
   "cell_type": "markdown",
   "metadata": {},
   "source": [
    "## Conclusion\n",
    "\n",
    "Using relatively simple methods and algorithms we managed to create a model with an accuracy above 97% which is quite high.\n",
    "We could not 100% prove that cross-validation is not applicable for multi-label classification problems. Probably we need to run GridSearchCV few more times to see if we will get always tha same results.\n",
    "Using the created setup we can continue trying to improve our model by:\n",
    "\n",
    "1. Performing different types of stemming of the words\n",
    "2. Try other algorithms for vectorizing comments' content like word2vec\n",
    "3. Try using character n-grams instead of word n-grams\n",
    "4. Try using ensemble classification algorithms"
   ]
  },
  {
   "cell_type": "markdown",
   "metadata": {},
   "source": [
    "## RESOURCES\n",
    "\n",
    "1. https://en.wikipedia.org/wiki/Multi-label_classification\n",
    "\n",
    "2. https://scikit-learn.org/stable/modules/multiclass.html\n",
    "\n",
    "3. https://medium.com/@saugata.paul1010/a-detailed-case-study-on-multi-label-classification-with-machine-learning-algorithms-and-72031742c9aa\n",
    "\n",
    "4. https://towardsdatascience.com/multi-label-text-classification-with-scikit-learn-30714b7819c5\n",
    "\n",
    "5. https://www.analyticsvidhya.com/blog/2017/08/introduction-to-multi-label-classification/\n"
   ]
  }
 ],
 "metadata": {
  "kernelspec": {
   "display_name": "Python 3",
   "language": "python",
   "name": "python3"
  },
  "language_info": {
   "codemirror_mode": {
    "name": "ipython",
    "version": 3
   },
   "file_extension": ".py",
   "mimetype": "text/x-python",
   "name": "python",
   "nbconvert_exporter": "python",
   "pygments_lexer": "ipython3",
   "version": "3.7.3"
  }
 },
 "nbformat": 4,
 "nbformat_minor": 1
}
